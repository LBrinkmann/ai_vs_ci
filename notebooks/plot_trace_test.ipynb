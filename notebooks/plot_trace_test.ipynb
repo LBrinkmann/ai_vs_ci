{
 "cells": [
  {
   "cell_type": "code",
   "execution_count": 49,
   "metadata": {
    "tags": []
   },
   "outputs": [],
   "source": [
    "import pandas as pd\n",
    "import seaborn as sns\n",
    "import jsonlines"
   ]
  },
  {
   "cell_type": "code",
   "execution_count": 50,
   "metadata": {},
   "outputs": [],
   "source": [
    "import os\n",
    "\n",
    "def find_files_with_extension(_dir, ext):\n",
    "    for root, dirs, files in os.walk(_dir):\n",
    "        for file in files:\n",
    "            if file.endswith(ext):\n",
    "                yield os.path.join(root, file)\n",
    "\n",
    "def load_jsonlines(filename):\n",
    "    with jsonlines.open(filename) as r:\n",
    "        for obj in r:\n",
    "            yield obj\n",
    "\n",
    "def jsonl_dir_as_df(_dir):\n",
    "    files_g = find_files_with_extension(_dir, \".parquet\")\n",
    "    # print(list(files_g))\n",
    "    pd.concat([pd.read_parquet(fn) for fn in files_g])\n",
    "    # print(df)\n",
    "    return df"
   ]
  },
  {
   "cell_type": "code",
   "execution_count": 51,
   "metadata": {},
   "outputs": [],
   "source": [
    "def add_rolling_mean(df, columns, window, groupby, sortby):\n",
    "    rolling = df.sort_values(sortby)[columns].groupby(df['mode']).rolling(window=window).mean()\n",
    "    rolling.index = rolling.index.droplevel(level=0)\n",
    "    rolling_columns = [f'{c}_rolling' for c in columns]\n",
    "    df[rolling_columns] = rolling\n",
    "    return df"
   ]
  },
  {
   "cell_type": "code",
   "execution_count": 52,
   "metadata": {
    "tags": []
   },
   "outputs": [],
   "source": [
    "df = jsonl_dir_as_df('../runs/heuristic_tabular/heuristic_only')"
   ]
  },
  {
   "cell_type": "code",
   "execution_count": 57,
   "metadata": {},
   "outputs": [],
   "source": [
    "dfs = df.drop(columns=['rewards', 'episode_rewards'])"
   ]
  },
  {
   "cell_type": "code",
   "execution_count": 62,
   "metadata": {},
   "outputs": [],
   "source": [
    "dfs.to_parquet('../tmp/test.parquet')"
   ]
  },
  {
   "cell_type": "code",
   "execution_count": 63,
   "metadata": {},
   "outputs": [],
   "source": [
    "dfs.to_csv('../tmp/test.csv')"
   ]
  },
  {
   "cell_type": "code",
   "execution_count": 64,
   "metadata": {},
   "outputs": [],
   "source": [
    "dfs.to_pickle('../tmp/test.pkl')"
   ]
  },
  {
   "cell_type": "code",
   "execution_count": 65,
   "metadata": {},
   "outputs": [],
   "source": [
    "dfs.to_json('../tmp/test.json')"
   ]
  },
  {
   "cell_type": "code",
   "execution_count": null,
   "metadata": {},
   "outputs": [],
   "source": []
  }
 ],
 "metadata": {
  "language_info": {
   "codemirror_mode": {
    "name": "ipython",
    "version": 3
   },
   "file_extension": ".py",
   "mimetype": "text/x-python",
   "name": "python",
   "nbconvert_exporter": "python",
   "pygments_lexer": "ipython3",
   "version": "3.7.3-final"
  },
  "orig_nbformat": 2,
  "kernelspec": {
   "name": "python_defaultSpec_1595776401828",
   "display_name": "Python 3.7.3 64-bit ('.venv': venv)"
  }
 },
 "nbformat": 4,
 "nbformat_minor": 2
}