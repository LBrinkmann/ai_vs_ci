{
 "cells": [
  {
   "cell_type": "code",
   "execution_count": 13,
   "metadata": {
    "tags": []
   },
   "outputs": [],
   "source": [
    "import pandas as pd\n",
    "import seaborn as sns\n",
    "import jsonlines"
   ]
  },
  {
   "cell_type": "code",
   "execution_count": 14,
   "metadata": {},
   "outputs": [],
   "source": [
    "import os\n",
    "\n",
    "def find_files_with_extension(_dir, ext):\n",
    "    for root, dirs, files in os.walk(_dir):\n",
    "        for file in files:\n",
    "            if file.endswith(ext):\n",
    "                yield os.path.join(root, file)\n",
    "\n",
    "def load_jsonlines(filename):\n",
    "    with jsonlines.open(filename) as r:\n",
    "        for obj in r:\n",
    "            yield obj\n",
    "\n",
    "def read_file(filename):\n",
    "    return pd.read_parquet(filename)\n",
    "\n",
    "def jsonl_dir_as_df(_dir):\n",
    "    files_g = find_files_with_extension(_dir, \".parquet\")\n",
    "    # print(list(files_g))\n",
    "    df = pd.concat([read_file(fn) for fn in files_g])\n",
    "    # print(df)\n",
    "    return df"
   ]
  },
  {
   "cell_type": "code",
   "execution_count": 15,
   "metadata": {},
   "outputs": [],
   "source": [
    "def add_rolling_mean(df, columns, window, groupby, sortby):\n",
    "    rolling = df.sort_values(sortby)[columns].groupby(df['mode']).rolling(window=window).mean()\n",
    "    rolling.index = rolling.index.droplevel(level=0)\n",
    "    rolling_columns = [f'{c}_rolling' for c in columns]\n",
    "    df[rolling_columns] = rolling\n",
    "    return df"
   ]
  },
  {
   "cell_type": "code",
   "execution_count": 16,
   "metadata": {
    "tags": []
   },
   "outputs": [
    {
     "output_type": "stream",
     "name": "stdout",
     "text": "../runs/heuristic_tabular/heuristic_only/grid/project_ai_vs_ci__batch_test_djx_heuristic__eps_fixed0.10__self_weight_1.0__networktype_full5/data/metrics.parquet\n../runs/heuristic_tabular/heuristic_only/grid/project_ai_vs_ci__batch_test_djx_heuristic__eps_decay__self_weight_-0.5__networktype_full3/data/metrics.parquet\n../runs/heuristic_tabular/heuristic_only/grid/project_ai_vs_ci__batch_test_djx_heuristic__eps_decay__self_weight_-0.5__networktype_cycle62/data/metrics.parquet\n../runs/heuristic_tabular/heuristic_only/grid/project_ai_vs_ci__batch_test_djx_heuristic__eps_fixed0.20__self_weight_1.0__networktype_cycle64/data/metrics.parquet\n../runs/heuristic_tabular/heuristic_only/grid/project_ai_vs_ci__batch_test_djx_heuristic__eps_decay__self_weight_-0.5__networktype_full5/data/metrics.parquet\n../runs/heuristic_tabular/heuristic_only/grid/project_ai_vs_ci__batch_test_djx_heuristic__eps_decay__self_weight_1.0__networktype_full3/data/metrics.parquet\n../runs/heuristic_tabular/heuristic_only/grid/project_ai_vs_ci__batch_test_djx_heuristic__eps_fixed0.10__self_weight_0.5__networktype_full4/data/metrics.parquet\n../runs/heuristic_tabular/heuristic_only/grid/project_ai_vs_ci__batch_test_djx_heuristic__eps_fixed0.10__self_weight_2.0__networktype_full4/data/metrics.parquet\n../runs/heuristic_tabular/heuristic_only/grid/project_ai_vs_ci__batch_test_djx_heuristic__eps_decay__self_weight_0.0__networktype_full4/data/metrics.parquet\n../runs/heuristic_tabular/heuristic_only/grid/project_ai_vs_ci__batch_test_djx_heuristic__eps_fixed0.05__self_weight_2.0__networktype_cycle62/data/metrics.parquet\n../runs/heuristic_tabular/heuristic_only/grid/project_ai_vs_ci__batch_test_djx_heuristic__eps_fixed0.20__self_weight_0.5__networktype_cycle64/data/metrics.parquet\n../runs/heuristic_tabular/heuristic_only/grid/project_ai_vs_ci__batch_test_djx_heuristic__eps_fixed0.10__self_weight_-0.5__networktype_full3/data/metrics.parquet\n../runs/heuristic_tabular/heuristic_only/grid/project_ai_vs_ci__batch_test_djx_heuristic__eps_decay__self_weight_0.5__networktype_full3/data/metrics.parquet\n../runs/heuristic_tabular/heuristic_only/grid/project_ai_vs_ci__batch_test_djx_heuristic__eps_fixed0.05__self_weight_1.0__networktype_cycle64/data/metrics.parquet\n../runs/heuristic_tabular/heuristic_only/grid/project_ai_vs_ci__batch_test_djx_heuristic__eps_fixed0.20__self_weight_0.0__networktype_full2/data/metrics.parquet\n../runs/heuristic_tabular/heuristic_only/grid/project_ai_vs_ci__batch_test_djx_heuristic__eps_fixed0.05__self_weight_0.5__networktype_full2/data/metrics.parquet\n../runs/heuristic_tabular/heuristic_only/grid/project_ai_vs_ci__batch_test_djx_heuristic__eps_fixed0.10__self_weight_0.5__networktype_cycle62/data/metrics.parquet\n../runs/heuristic_tabular/heuristic_only/grid/project_ai_vs_ci__batch_test_djx_heuristic__eps_decay__self_weight_-0.5__networktype_full2/data/metrics.parquet\n../runs/heuristic_tabular/heuristic_only/grid/project_ai_vs_ci__batch_test_djx_heuristic__eps_fixed0.20__self_weight_1.0__networktype_full3/data/metrics.parquet\n../runs/heuristic_tabular/heuristic_only/grid/project_ai_vs_ci__batch_test_djx_heuristic__eps_fixed0.10__self_weight_2.0__networktype_full3/data/metrics.parquet\n../runs/heuristic_tabular/heuristic_only/grid/project_ai_vs_ci__batch_test_djx_heuristic__eps_fixed0.10__self_weight_0.0__networktype_full3/data/metrics.parquet\n../runs/heuristic_tabular/heuristic_only/grid/project_ai_vs_ci__batch_test_djx_heuristic__eps_fixed0.10__self_weight_0.5__networktype_full5/data/metrics.parquet\n../runs/heuristic_tabular/heuristic_only/grid/project_ai_vs_ci__batch_test_djx_heuristic__eps_fixed0.10__self_weight_-0.5__networktype_cycle62/data/metrics.parquet\n../runs/heuristic_tabular/heuristic_only/grid/project_ai_vs_ci__batch_test_djx_heuristic__eps_fixed0.05__self_weight_2.0__networktype_full4/data/metrics.parquet\n../runs/heuristic_tabular/heuristic_only/grid/project_ai_vs_ci__batch_test_djx_heuristic__eps_decay__self_weight_-0.5__networktype_cycle64/data/metrics.parquet\n../runs/heuristic_tabular/heuristic_only/grid/project_ai_vs_ci__batch_test_djx_heuristic__eps_fixed0.20__self_weight_-0.5__networktype_full4/data/metrics.parquet\n../runs/heuristic_tabular/heuristic_only/grid/project_ai_vs_ci__batch_test_djx_heuristic__eps_fixed0.20__self_weight_1.0__networktype_full2/data/metrics.parquet\n../runs/heuristic_tabular/heuristic_only/grid/project_ai_vs_ci__batch_test_djx_heuristic__eps_fixed0.05__self_weight_0.0__networktype_full3/data/metrics.parquet\n../runs/heuristic_tabular/heuristic_only/grid/project_ai_vs_ci__batch_test_djx_heuristic__eps_fixed0.05__self_weight_-0.5__networktype_full3/data/metrics.parquet\n../runs/heuristic_tabular/heuristic_only/grid/project_ai_vs_ci__batch_test_djx_heuristic__eps_decay__self_weight_2.0__networktype_full4/data/metrics.parquet\n../runs/heuristic_tabular/heuristic_only/grid/project_ai_vs_ci__batch_test_djx_heuristic__eps_decay__self_weight_1.0__networktype_cycle64/data/metrics.parquet\n../runs/heuristic_tabular/heuristic_only/grid/project_ai_vs_ci__batch_test_djx_heuristic__eps_fixed0.10__self_weight_0.0__networktype_full4/data/metrics.parquet\n../runs/heuristic_tabular/heuristic_only/grid/project_ai_vs_ci__batch_test_djx_heuristic__eps_fixed0.05__self_weight_0.5__networktype_cycle62/data/metrics.parquet\n../runs/heuristic_tabular/heuristic_only/grid/project_ai_vs_ci__batch_test_djx_heuristic__eps_fixed0.10__self_weight_0.5__networktype_cycle64/data/metrics.parquet\n../runs/heuristic_tabular/heuristic_only/grid/project_ai_vs_ci__batch_test_djx_heuristic__eps_fixed0.10__self_weight_1.0__networktype_full2/data/metrics.parquet\n../runs/heuristic_tabular/heuristic_only/grid/project_ai_vs_ci__batch_test_djx_heuristic__eps_fixed0.10__self_weight_-0.5__networktype_full5/data/metrics.parquet\n../runs/heuristic_tabular/heuristic_only/grid/project_ai_vs_ci__batch_test_djx_heuristic__eps_fixed0.05__self_weight_0.0__networktype_full5/data/metrics.parquet\n../runs/heuristic_tabular/heuristic_only/grid/project_ai_vs_ci__batch_test_djx_heuristic__eps_fixed0.20__self_weight_1.0__networktype_cycle62/data/metrics.parquet\n../runs/heuristic_tabular/heuristic_only/grid/project_ai_vs_ci__batch_test_djx_heuristic__eps_fixed0.05__self_weight_-0.5__networktype_full5/data/metrics.parquet\n../runs/heuristic_tabular/heuristic_only/grid/project_ai_vs_ci__batch_test_djx_heuristic__eps_decay__self_weight_1.0__networktype_full5/data/metrics.parquet\n../runs/heuristic_tabular/heuristic_only/grid/project_ai_vs_ci__batch_test_djx_heuristic__eps_fixed0.20__self_weight_0.0__networktype_cycle64/data/metrics.parquet\n../runs/heuristic_tabular/heuristic_only/grid/project_ai_vs_ci__batch_test_djx_heuristic__eps_decay__self_weight_2.0__networktype_full5/data/metrics.parquet\n../runs/heuristic_tabular/heuristic_only/grid/project_ai_vs_ci__batch_test_djx_heuristic__eps_decay__self_weight_1.0__networktype_cycle62/data/metrics.parquet\n../runs/heuristic_tabular/heuristic_only/grid/project_ai_vs_ci__batch_test_djx_heuristic__eps_decay__self_weight_2.0__networktype_full3/data/metrics.parquet\n../runs/heuristic_tabular/heuristic_only/grid/project_ai_vs_ci__batch_test_djx_heuristic__eps_fixed0.20__self_weight_0.0__networktype_full5/data/metrics.parquet\n../runs/heuristic_tabular/heuristic_only/grid/project_ai_vs_ci__batch_test_djx_heuristic__eps_fixed0.20__self_weight_0.5__networktype_full3/data/metrics.parquet\n../runs/heuristic_tabular/heuristic_only/grid/project_ai_vs_ci__batch_test_djx_heuristic__eps_fixed0.20__self_weight_-0.5__networktype_full5/data/metrics.parquet\n../runs/heuristic_tabular/heuristic_only/grid/project_ai_vs_ci__batch_test_djx_heuristic__eps_fixed0.20__self_weight_2.0__networktype_full5/data/metrics.parquet\n../runs/heuristic_tabular/heuristic_only/grid/project_ai_vs_ci__batch_test_djx_heuristic__eps_fixed0.10__self_weight_1.0__networktype_full4/data/metrics.parquet\n../runs/heuristic_tabular/heuristic_only/grid/project_ai_vs_ci__batch_test_djx_heuristic__eps_decay__self_weight_0.5__networktype_cycle64/data/metrics.parquet\n../runs/heuristic_tabular/heuristic_only/grid/project_ai_vs_ci__batch_test_djx_heuristic__eps_fixed0.10__self_weight_0.0__networktype_full5/data/metrics.parquet\n../runs/heuristic_tabular/heuristic_only/grid/project_ai_vs_ci__batch_test_djx_heuristic__eps_fixed0.05__self_weight_2.0__networktype_full3/data/metrics.parquet\n../runs/heuristic_tabular/heuristic_only/grid/project_ai_vs_ci__batch_test_djx_heuristic__eps_fixed0.05__self_weight_1.0__networktype_full4/data/metrics.parquet\n../runs/heuristic_tabular/heuristic_only/grid/project_ai_vs_ci__batch_test_djx_heuristic__eps_decay__self_weight_0.0__networktype_full2/data/metrics.parquet\n../runs/heuristic_tabular/heuristic_only/grid/project_ai_vs_ci__batch_test_djx_heuristic__eps_decay__self_weight_0.5__networktype_full2/data/metrics.parquet\n../runs/heuristic_tabular/heuristic_only/grid/project_ai_vs_ci__batch_test_djx_heuristic__eps_fixed0.20__self_weight_2.0__networktype_cycle64/data/metrics.parquet\n../runs/heuristic_tabular/heuristic_only/grid/project_ai_vs_ci__batch_test_djx_heuristic__eps_fixed0.20__self_weight_0.0__networktype_cycle62/data/metrics.parquet\n../runs/heuristic_tabular/heuristic_only/grid/project_ai_vs_ci__batch_test_djx_heuristic__eps_fixed0.05__self_weight_1.0__networktype_full5/data/metrics.parquet\n../runs/heuristic_tabular/heuristic_only/grid/project_ai_vs_ci__batch_test_djx_heuristic__eps_fixed0.05__self_weight_-0.5__networktype_cycle62/data/metrics.parquet\n../runs/heuristic_tabular/heuristic_only/grid/project_ai_vs_ci__batch_test_djx_heuristic__eps_fixed0.05__self_weight_-0.5__networktype_full4/data/metrics.parquet\n../runs/heuristic_tabular/heuristic_only/grid/project_ai_vs_ci__batch_test_djx_heuristic__eps_fixed0.20__self_weight_-0.5__networktype_cycle62/data/metrics.parquet\n../runs/heuristic_tabular/heuristic_only/grid/project_ai_vs_ci__batch_test_djx_heuristic__eps_fixed0.05__self_weight_1.0__networktype_full3/data/metrics.parquet\n../runs/heuristic_tabular/heuristic_only/grid/project_ai_vs_ci__batch_test_djx_heuristic__eps_decay__self_weight_-0.5__networktype_full4/data/metrics.parquet\n../runs/heuristic_tabular/heuristic_only/grid/project_ai_vs_ci__batch_test_djx_heuristic__eps_fixed0.05__self_weight_1.0__networktype_full2/data/metrics.parquet\n../runs/heuristic_tabular/heuristic_only/grid/project_ai_vs_ci__batch_test_djx_heuristic__eps_fixed0.10__self_weight_2.0__networktype_cycle64/data/metrics.parquet\n../runs/heuristic_tabular/heuristic_only/grid/project_ai_vs_ci__batch_test_djx_heuristic__eps_decay__self_weight_2.0__networktype_full2/data/metrics.parquet\n../runs/heuristic_tabular/heuristic_only/grid/project_ai_vs_ci__batch_test_djx_heuristic__eps_fixed0.10__self_weight_-0.5__networktype_cycle64/data/metrics.parquet\n../runs/heuristic_tabular/heuristic_only/grid/project_ai_vs_ci__batch_test_djx_heuristic__eps_fixed0.05__self_weight_0.0__networktype_cycle64/data/metrics.parquet\n../runs/heuristic_tabular/heuristic_only/grid/project_ai_vs_ci__batch_test_djx_heuristic__eps_decay__self_weight_0.0__networktype_full3/data/metrics.parquet\n../runs/heuristic_tabular/heuristic_only/grid/project_ai_vs_ci__batch_test_djx_heuristic__eps_fixed0.10__self_weight_1.0__networktype_cycle62/data/metrics.parquet\n../runs/heuristic_tabular/heuristic_only/grid/project_ai_vs_ci__batch_test_djx_heuristic__eps_fixed0.10__self_weight_0.0__networktype_cycle64/data/metrics.parquet\n../runs/heuristic_tabular/heuristic_only/grid/project_ai_vs_ci__batch_test_djx_heuristic__eps_fixed0.05__self_weight_-0.5__networktype_cycle64/data/metrics.parquet\n../runs/heuristic_tabular/heuristic_only/grid/project_ai_vs_ci__batch_test_djx_heuristic__eps_fixed0.10__self_weight_0.0__networktype_cycle62/data/metrics.parquet\n../runs/heuristic_tabular/heuristic_only/grid/project_ai_vs_ci__batch_test_djx_heuristic__eps_fixed0.20__self_weight_-0.5__networktype_full2/data/metrics.parquet\n../runs/heuristic_tabular/heuristic_only/grid/project_ai_vs_ci__batch_test_djx_heuristic__eps_fixed0.20__self_weight_0.5__networktype_cycle62/data/metrics.parquet\n../runs/heuristic_tabular/heuristic_only/grid/project_ai_vs_ci__batch_test_djx_heuristic__eps_fixed0.10__self_weight_-0.5__networktype_full4/data/metrics.parquet\n../runs/heuristic_tabular/heuristic_only/grid/project_ai_vs_ci__batch_test_djx_heuristic__eps_fixed0.20__self_weight_2.0__networktype_full4/data/metrics.parquet\n../runs/heuristic_tabular/heuristic_only/grid/project_ai_vs_ci__batch_test_djx_heuristic__eps_fixed0.20__self_weight_-0.5__networktype_cycle64/data/metrics.parquet\n../runs/heuristic_tabular/heuristic_only/grid/project_ai_vs_ci__batch_test_djx_heuristic__eps_decay__self_weight_2.0__networktype_cycle62/data/metrics.parquet\n../runs/heuristic_tabular/heuristic_only/grid/project_ai_vs_ci__batch_test_djx_heuristic__eps_decay__self_weight_0.0__networktype_cycle64/data/metrics.parquet\n../runs/heuristic_tabular/heuristic_only/grid/project_ai_vs_ci__batch_test_djx_heuristic__eps_fixed0.20__self_weight_2.0__networktype_full2/data/metrics.parquet\n../runs/heuristic_tabular/heuristic_only/grid/project_ai_vs_ci__batch_test_djx_heuristic__eps_decay__self_weight_0.5__networktype_full5/data/metrics.parquet\n../runs/heuristic_tabular/heuristic_only/grid/project_ai_vs_ci__batch_test_djx_heuristic__eps_fixed0.20__self_weight_1.0__networktype_full4/data/metrics.parquet\n../runs/heuristic_tabular/heuristic_only/grid/project_ai_vs_ci__batch_test_djx_heuristic__eps_fixed0.20__self_weight_0.5__networktype_full4/data/metrics.parquet\n../runs/heuristic_tabular/heuristic_only/grid/project_ai_vs_ci__batch_test_djx_heuristic__eps_decay__self_weight_1.0__networktype_full4/data/metrics.parquet\n../runs/heuristic_tabular/heuristic_only/grid/project_ai_vs_ci__batch_test_djx_heuristic__eps_fixed0.05__self_weight_0.5__networktype_full5/data/metrics.parquet\n../runs/heuristic_tabular/heuristic_only/grid/project_ai_vs_ci__batch_test_djx_heuristic__eps_fixed0.05__self_weight_0.0__networktype_cycle62/data/metrics.parquet\n../runs/heuristic_tabular/heuristic_only/grid/project_ai_vs_ci__batch_test_djx_heuristic__eps_fixed0.20__self_weight_2.0__networktype_cycle62/data/metrics.parquet\n../runs/heuristic_tabular/heuristic_only/grid/project_ai_vs_ci__batch_test_djx_heuristic__eps_fixed0.05__self_weight_0.0__networktype_full2/data/metrics.parquet\n../runs/heuristic_tabular/heuristic_only/grid/project_ai_vs_ci__batch_test_djx_heuristic__eps_decay__self_weight_0.5__networktype_cycle62/data/metrics.parquet\n../runs/heuristic_tabular/heuristic_only/grid/project_ai_vs_ci__batch_test_djx_heuristic__eps_fixed0.10__self_weight_-0.5__networktype_full2/data/metrics.parquet\n../runs/heuristic_tabular/heuristic_only/grid/project_ai_vs_ci__batch_test_djx_heuristic__eps_fixed0.10__self_weight_0.5__networktype_full3/data/metrics.parquet\n../runs/heuristic_tabular/heuristic_only/grid/project_ai_vs_ci__batch_test_djx_heuristic__eps_fixed0.05__self_weight_0.5__networktype_full3/data/metrics.parquet\n../runs/heuristic_tabular/heuristic_only/grid/project_ai_vs_ci__batch_test_djx_heuristic__eps_fixed0.10__self_weight_0.5__networktype_full2/data/metrics.parquet\n../runs/heuristic_tabular/heuristic_only/grid/project_ai_vs_ci__batch_test_djx_heuristic__eps_fixed0.05__self_weight_2.0__networktype_full5/data/metrics.parquet\n../runs/heuristic_tabular/heuristic_only/grid/project_ai_vs_ci__batch_test_djx_heuristic__eps_decay__self_weight_0.5__networktype_full4/data/metrics.parquet\n../runs/heuristic_tabular/heuristic_only/grid/project_ai_vs_ci__batch_test_djx_heuristic__eps_fixed0.20__self_weight_0.0__networktype_full4/data/metrics.parquet\n../runs/heuristic_tabular/heuristic_only/grid/project_ai_vs_ci__batch_test_djx_heuristic__eps_fixed0.10__self_weight_1.0__networktype_full3/data/metrics.parquet\n../runs/heuristic_tabular/heuristic_only/grid/project_ai_vs_ci__batch_test_djx_heuristic__eps_fixed0.10__self_weight_2.0__networktype_cycle62/data/metrics.parquet\n../runs/heuristic_tabular/heuristic_only/grid/project_ai_vs_ci__batch_test_djx_heuristic__eps_fixed0.10__self_weight_0.0__networktype_full2/data/metrics.parquet\n../runs/heuristic_tabular/heuristic_only/grid/project_ai_vs_ci__batch_test_djx_heuristic__eps_fixed0.20__self_weight_0.5__networktype_full2/data/metrics.parquet\n../runs/heuristic_tabular/heuristic_only/grid/project_ai_vs_ci__batch_test_djx_heuristic__eps_fixed0.20__self_weight_-0.5__networktype_full3/data/metrics.parquet\n../runs/heuristic_tabular/heuristic_only/grid/project_ai_vs_ci__batch_test_djx_heuristic__eps_fixed0.05__self_weight_1.0__networktype_cycle62/data/metrics.parquet\n../runs/heuristic_tabular/heuristic_only/grid/project_ai_vs_ci__batch_test_djx_heuristic__eps_fixed0.05__self_weight_2.0__networktype_full2/data/metrics.parquet\n../runs/heuristic_tabular/heuristic_only/grid/project_ai_vs_ci__batch_test_djx_heuristic__eps_fixed0.10__self_weight_2.0__networktype_full2/data/metrics.parquet\n../runs/heuristic_tabular/heuristic_only/grid/project_ai_vs_ci__batch_test_djx_heuristic__eps_decay__self_weight_0.0__networktype_full5/data/metrics.parquet\n../runs/heuristic_tabular/heuristic_only/grid/project_ai_vs_ci__batch_test_djx_heuristic__eps_fixed0.05__self_weight_-0.5__networktype_full2/data/metrics.parquet\n../runs/heuristic_tabular/heuristic_only/grid/project_ai_vs_ci__batch_test_djx_heuristic__eps_fixed0.20__self_weight_1.0__networktype_full5/data/metrics.parquet\n../runs/heuristic_tabular/heuristic_only/grid/project_ai_vs_ci__batch_test_djx_heuristic__eps_fixed0.05__self_weight_2.0__networktype_cycle64/data/metrics.parquet\n../runs/heuristic_tabular/heuristic_only/grid/project_ai_vs_ci__batch_test_djx_heuristic__eps_decay__self_weight_2.0__networktype_cycle64/data/metrics.parquet\n../runs/heuristic_tabular/heuristic_only/grid/project_ai_vs_ci__batch_test_djx_heuristic__eps_fixed0.05__self_weight_0.5__networktype_cycle64/data/metrics.parquet\n../runs/heuristic_tabular/heuristic_only/grid/project_ai_vs_ci__batch_test_djx_heuristic__eps_decay__self_weight_0.0__networktype_cycle62/data/metrics.parquet\n../runs/heuristic_tabular/heuristic_only/grid/project_ai_vs_ci__batch_test_djx_heuristic__eps_fixed0.20__self_weight_0.5__networktype_full5/data/metrics.parquet\n../runs/heuristic_tabular/heuristic_only/grid/project_ai_vs_ci__batch_test_djx_heuristic__eps_fixed0.10__self_weight_2.0__networktype_full5/data/metrics.parquet\n../runs/heuristic_tabular/heuristic_only/grid/project_ai_vs_ci__batch_test_djx_heuristic__eps_fixed0.20__self_weight_2.0__networktype_full3/data/metrics.parquet\n../runs/heuristic_tabular/heuristic_only/grid/project_ai_vs_ci__batch_test_djx_heuristic__eps_fixed0.05__self_weight_0.0__networktype_full4/data/metrics.parquet\n../runs/heuristic_tabular/heuristic_only/grid/project_ai_vs_ci__batch_test_djx_heuristic__eps_fixed0.20__self_weight_0.0__networktype_full3/data/metrics.parquet\n../runs/heuristic_tabular/heuristic_only/grid/project_ai_vs_ci__batch_test_djx_heuristic__eps_fixed0.10__self_weight_1.0__networktype_cycle64/data/metrics.parquet\n../runs/heuristic_tabular/heuristic_only/grid/project_ai_vs_ci__batch_test_djx_heuristic__eps_fixed0.05__self_weight_0.5__networktype_full4/data/metrics.parquet\n../runs/heuristic_tabular/heuristic_only/grid/project_ai_vs_ci__batch_test_djx_heuristic__eps_decay__self_weight_1.0__networktype_full2/data/metrics.parquet\n"
    }
   ],
   "source": [
    "df = jsonl_dir_as_df('../runs/heuristic_tabular/heuristic_only')"
   ]
  },
  {
   "cell_type": "code",
   "execution_count": 17,
   "metadata": {},
   "outputs": [],
   "source": [
    "dfs = df.drop(columns=['rewards', 'episode_rewards'])"
   ]
  },
  {
   "cell_type": "code",
   "execution_count": 7,
   "metadata": {},
   "outputs": [
    {
     "output_type": "error",
     "ename": "NameError",
     "evalue": "name 'dfs' is not defined",
     "traceback": [
      "\u001b[0;31m---------------------------------------------------------------------------\u001b[0m",
      "\u001b[0;31mNameError\u001b[0m                                 Traceback (most recent call last)",
      "\u001b[0;32m<ipython-input-7-6e5d6ad87df5>\u001b[0m in \u001b[0;36m<module>\u001b[0;34m\u001b[0m\n\u001b[0;32m----> 1\u001b[0;31m \u001b[0mdfs\u001b[0m\u001b[0;34m.\u001b[0m\u001b[0mto_parquet\u001b[0m\u001b[0;34m(\u001b[0m\u001b[0;34m'../tmp/test.parquet'\u001b[0m\u001b[0;34m)\u001b[0m\u001b[0;34m\u001b[0m\u001b[0;34m\u001b[0m\u001b[0m\n\u001b[0m",
      "\u001b[0;31mNameError\u001b[0m: name 'dfs' is not defined"
     ]
    }
   ],
   "source": [
    "dfs.to_parquet('../tmp/test.parquet')"
   ]
  },
  {
   "cell_type": "code",
   "execution_count": 8,
   "metadata": {},
   "outputs": [
    {
     "output_type": "error",
     "ename": "NameError",
     "evalue": "name 'dfs' is not defined",
     "traceback": [
      "\u001b[0;31m---------------------------------------------------------------------------\u001b[0m",
      "\u001b[0;31mNameError\u001b[0m                                 Traceback (most recent call last)",
      "\u001b[0;32m<ipython-input-8-a81c62d6e4aa>\u001b[0m in \u001b[0;36m<module>\u001b[0;34m\u001b[0m\n\u001b[0;32m----> 1\u001b[0;31m \u001b[0mdfs\u001b[0m\u001b[0;34m.\u001b[0m\u001b[0mto_csv\u001b[0m\u001b[0;34m(\u001b[0m\u001b[0;34m'../tmp/test.csv'\u001b[0m\u001b[0;34m)\u001b[0m\u001b[0;34m\u001b[0m\u001b[0;34m\u001b[0m\u001b[0m\n\u001b[0m",
      "\u001b[0;31mNameError\u001b[0m: name 'dfs' is not defined"
     ]
    }
   ],
   "source": [
    "dfs.to_csv('../tmp/test.csv')"
   ]
  },
  {
   "cell_type": "code",
   "execution_count": 9,
   "metadata": {},
   "outputs": [
    {
     "output_type": "error",
     "ename": "NameError",
     "evalue": "name 'dfs' is not defined",
     "traceback": [
      "\u001b[0;31m---------------------------------------------------------------------------\u001b[0m",
      "\u001b[0;31mNameError\u001b[0m                                 Traceback (most recent call last)",
      "\u001b[0;32m<ipython-input-9-62f0391f18ee>\u001b[0m in \u001b[0;36m<module>\u001b[0;34m\u001b[0m\n\u001b[0;32m----> 1\u001b[0;31m \u001b[0mdfs\u001b[0m\u001b[0;34m.\u001b[0m\u001b[0mto_pickle\u001b[0m\u001b[0;34m(\u001b[0m\u001b[0;34m'../tmp/test.pkl'\u001b[0m\u001b[0;34m)\u001b[0m\u001b[0;34m\u001b[0m\u001b[0;34m\u001b[0m\u001b[0m\n\u001b[0m",
      "\u001b[0;31mNameError\u001b[0m: name 'dfs' is not defined"
     ]
    }
   ],
   "source": [
    "dfs.to_pickle('../tmp/test.pkl')"
   ]
  },
  {
   "cell_type": "code",
   "execution_count": 10,
   "metadata": {},
   "outputs": [
    {
     "output_type": "error",
     "ename": "NameError",
     "evalue": "name 'dfs' is not defined",
     "traceback": [
      "\u001b[0;31m---------------------------------------------------------------------------\u001b[0m",
      "\u001b[0;31mNameError\u001b[0m                                 Traceback (most recent call last)",
      "\u001b[0;32m<ipython-input-10-b2be01aaff27>\u001b[0m in \u001b[0;36m<module>\u001b[0;34m\u001b[0m\n\u001b[0;32m----> 1\u001b[0;31m \u001b[0mdfs\u001b[0m\u001b[0;34m.\u001b[0m\u001b[0mto_json\u001b[0m\u001b[0;34m(\u001b[0m\u001b[0;34m'../tmp/test.json'\u001b[0m\u001b[0;34m)\u001b[0m\u001b[0;34m\u001b[0m\u001b[0;34m\u001b[0m\u001b[0m\n\u001b[0m",
      "\u001b[0;31mNameError\u001b[0m: name 'dfs' is not defined"
     ]
    }
   ],
   "source": [
    "dfs.to_json('../tmp/test.json')"
   ]
  },
  {
   "cell_type": "code",
   "execution_count": null,
   "metadata": {},
   "outputs": [],
   "source": []
  }
 ],
 "metadata": {
  "language_info": {
   "codemirror_mode": {
    "name": "ipython",
    "version": 3
   },
   "file_extension": ".py",
   "mimetype": "text/x-python",
   "name": "python",
   "nbconvert_exporter": "python",
   "pygments_lexer": "ipython3",
   "version": "3.8.5-final"
  },
  "orig_nbformat": 2,
  "kernelspec": {
   "name": "python_defaultSpec_1595860021621",
   "display_name": "Python 3.8.5 64-bit ('.venv': venv)"
  }
 },
 "nbformat": 4,
 "nbformat_minor": 2
}